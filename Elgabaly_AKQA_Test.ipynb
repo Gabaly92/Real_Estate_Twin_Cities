{
 "cells": [
  {
   "cell_type": "markdown",
   "metadata": {},
   "source": [
    "# Data Analysis of real estate listings for the twin cities area\n",
    "\n",
    "## Solution Methedology\n",
    "\n",
    "I do not have to necessarily use all the features given in the dataset to solve all the questions but rather consider every question as a special problem that depends on a subset of the features in the dataset where this subset might be all the given features in the data but this depends on the question being asked."
   ]
  },
  {
   "cell_type": "markdown",
   "metadata": {},
   "source": [
    "## Data Exploration "
   ]
  },
  {
   "cell_type": "raw",
   "metadata": {},
   "source": [
    "1) Read the excel file in a pandas data frame \n",
    "2) Get how many lisintgs are there in the data and how many features are there for each listing\n",
    "3) Get statistics for the numerical features in the dataset"
   ]
  },
  {
   "cell_type": "code",
   "execution_count": 3,
   "metadata": {
    "collapsed": false
   },
   "outputs": [
    {
     "name": "stdout",
     "output_type": "stream",
     "text": [
      "        ID                 ADDRESS       CITY STATE    ZIP  ListPrice  BEDS  \\\n",
      "0  4416206   1000 Larpenteur Ave W   St. Paul    MN  55113     214000     3   \n",
      "1  4423768        1004 Charles Ave   St. Paul    MN  55104     134900     3   \n",
      "2  4427963          1004 Euclid St   St. Paul    MN  55106     129722     4   \n",
      "3  4432178  1005 Saint Anthony Ave   St. Paul    MN  55104     134900     2   \n",
      "4  4440070      100X Chatsworth Pl  Shoreview    MN  55126     444900     4   \n",
      "\n",
      "   BATHS                LOCATION  SQFT    ...      YearBuilt  ParkingSpots  \\\n",
      "0   2.00                    Como  1954    ...           1918             2   \n",
      "1   1.00  Thomas-Dale (Frogtown)  1028    ...           1911             1   \n",
      "2   1.00          Dayton's Bluff  1420    ...           1900             0   \n",
      "3   1.75       Summit-University   904    ...           1928             3   \n",
      "4   2.50               Shoreview  2014    ...           2014             3   \n",
      "\n",
      "   HasGarage  DOM  LastSaleDate SoldPrev                     Realty  \\\n",
      "0     Garage  117    2008-10-06        Y         Edina Realty, Inc.   \n",
      "1     Garage   93    2010-11-08        Y            Fish MLS Realty   \n",
      "2  No Garage   77           NaT        N     Coldwell Banker Burnet   \n",
      "3     Garage   57           NaT        N  Real Estate Masters, Ltd.   \n",
      "4     Garage    8           NaT        N     Coldwell Banker Burnet   \n",
      "\n",
      "    LATITUDE  LONGITUDE  ShortSale  \n",
      "0  44.991634 -93.142616          N  \n",
      "1  44.957291 -93.142624          N  \n",
      "2  44.954708 -93.057976          N  \n",
      "3  44.952404 -93.142693          N  \n",
      "4  44.944391 -93.141348          N  \n",
      "\n",
      "[5 rows x 21 columns] \n",
      "\n",
      "The dataset consists of: \n",
      " 1111 listings \n",
      " 21 features for each listing \n",
      "\n",
      "The descriptive statistics for the numerical values in the dataset are as follows: \n",
      "                 ZIP     ListPrice         BEDS        BATHS         SQFT  \\\n",
      "count   1111.000000  1.111000e+03  1111.000000  1110.000000  1111.000000   \n",
      "mean   55270.833483  2.714080e+05     3.189019     1.722748  1781.702070   \n",
      "std      151.463688  3.730517e+05     0.954036     0.810625   980.032525   \n",
      "min    55101.000000  1.990000e+04     1.000000     0.750000   396.000000   \n",
      "25%    55106.000000  1.200000e+05     3.000000          NaN  1213.500000   \n",
      "50%    55406.000000  1.650000e+05     3.000000          NaN  1536.000000   \n",
      "75%    55412.000000  2.550000e+05     4.000000          NaN  1964.000000   \n",
      "max    55430.000000  4.650000e+06     8.000000     5.750000  8655.000000   \n",
      "\n",
      "             LotSize    YearBuilt  ParkingSpots          DOM     LATITUDE  \\\n",
      "count    1047.000000  1111.000000   1111.000000  1111.000000  1105.000000   \n",
      "mean     6688.906399  1932.989199      1.885689    69.477948    44.958555   \n",
      "std      7350.277745    31.095347      1.072373    46.976467     0.040648   \n",
      "min      1001.000000  1869.000000      0.000000     1.000000    44.891399   \n",
      "25%              NaN  1912.000000      1.000000    20.000000          NaN   \n",
      "50%              NaN  1925.000000      2.000000    70.000000          NaN   \n",
      "75%              NaN  1950.000000      2.000000   113.000000          NaN   \n",
      "max    136778.000000  2014.000000     12.000000   138.000000    45.050339   \n",
      "\n",
      "         LONGITUDE  \n",
      "count  1105.000000  \n",
      "mean    -93.195544  \n",
      "std       0.096547  \n",
      "min     -93.328606  \n",
      "25%            NaN  \n",
      "50%            NaN  \n",
      "75%            NaN  \n",
      "max     -93.004931  \n"
     ]
    }
   ],
   "source": [
    "# import pandas library\n",
    "import pandas as pd\n",
    "\n",
    "# Read the excel file in a pandas data frame and print the first 5 values to get an idea on how it looks like\n",
    "dataset = pd.read_excel('AKQA_Dataset_Test.xlsx')\n",
    "print dataset.head(5),'\\n'\n",
    "\n",
    "# Get dataset dimensions\n",
    "dataset_dimensions = dataset.shape\n",
    "print 'The dataset consists of: \\n {} listings \\n {} features for each listing \\n'.format(dataset_dimensions[0], \n",
    "                                                                                          dataset_dimensions[1])\n",
    "\n",
    "# Get statistics for numerical features in the dataset\n",
    "print 'The descriptive statistics for the numerical values in the dataset are as follows: \\n {}'.format(\n",
    "    dataset.describe())"
   ]
  },
  {
   "cell_type": "markdown",
   "metadata": {},
   "source": [
    "### Comments on the data\n",
    "\n",
    "Its clear from seeing the statistics of the data is that some features have NAN points which greatly affect the statistics, these points might need to be discarded, however this decision will be made depending on wether the question depends on these points or not "
   ]
  },
  {
   "cell_type": "code",
   "execution_count": null,
   "metadata": {
    "collapsed": true
   },
   "outputs": [],
   "source": []
  }
 ],
 "metadata": {
  "anaconda-cloud": {},
  "kernelspec": {
   "display_name": "Python 2",
   "language": "python",
   "name": "python2"
  },
  "language_info": {
   "codemirror_mode": {
    "name": "ipython",
    "version": 2
   },
   "file_extension": ".py",
   "mimetype": "text/x-python",
   "name": "python",
   "nbconvert_exporter": "python",
   "pygments_lexer": "ipython2",
   "version": "2.7.12"
  }
 },
 "nbformat": 4,
 "nbformat_minor": 1
}
